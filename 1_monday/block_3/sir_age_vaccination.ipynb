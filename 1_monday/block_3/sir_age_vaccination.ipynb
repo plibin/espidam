{
 "cells": [
  {
   "cell_type": "markdown",
   "metadata": {},
   "source": [
    "# ESPIDAM SIR Age-Structured Example With Vaccination\n",
    "\n",
    "*Authors: Sebastiaan Weytjens, Pieter Libin, Niel Hens*"
   ]
  },
  {
   "cell_type": "markdown",
   "metadata": {},
   "source": [
    "### Age-Structured SIR: Adding Vaccination\n",
    "\n",
    "To enable vaccination in the SIR model, we add two compartments: SV and IV, vaccinated susceptible and infected individuals, respectively. We modify the ODE equations as follows, where $\\rho_i$ indicates the vaccination rate for age class i, $VE_S$ the susceptibility of vaccinated individuals, and $VE_I$ the infectiousness of vaccinated infected individuals:\n",
    "\n",
    "$\n",
    "\\begin{aligned}\n",
    "\\frac{{dS_i}}{{dt}} &= - \\rho_i \\cdot S_i -\\beta \\cdot S_i \\cdot \\sum_j C_{i j} \\cdot (I_j + VE_I \\cdot IV_j) / N_j \\\\\n",
    "\\frac{{dSV_i}}{{dt}} &= \\rho_i \\cdot S_i -\\beta \\cdot VE_S \\cdot SV_i \\cdot \\sum_j C_{i j} \\cdot (I_j + VE_I \\cdot IV_j) / N_j \\\\\n",
    "\\frac{{dI_i}}{{dt}} &= - \\rho_i \\cdot I_i - \\gamma \\cdot I_i + \\beta \\cdot S_i \\cdot \\sum_j C_{i j} \\cdot (I_j + VE_I \\cdot IV_j) / N_j \\\\\n",
    "\\frac{{dIV_i}}{{dt}} &= \\rho_i \\cdot I_i - \\gamma \\cdot IV_i + \\beta \\cdot VE_S \\cdot SV_i \\cdot \\sum_j C_{i j} \\cdot (I_j + VE_I \\cdot IV_j) / N_j \\\\\n",
    "\\frac{{dR_i}}{{dt}} &= \\gamma \\cdot I_i + \\gamma \\cdot IV_i\n",
    "\\end{aligned}\n",
    "$"
   ]
  },
  {
   "cell_type": "markdown",
   "metadata": {},
   "source": [
    "#### Dependencies"
   ]
  },
  {
   "cell_type": "code",
   "execution_count": null,
   "metadata": {},
   "outputs": [],
   "source": [
    "import numpy as np\n",
    "from scipy.integrate import odeint\n",
    "import matplotlib.pyplot as plt\n",
    "from sir_helpers import *\n",
    "import math\n",
    "from numpy.linalg import eig"
   ]
  },
  {
   "cell_type": "markdown",
   "metadata": {},
   "source": [
    "#### Model Description\n",
    "\n",
    "We will start with the model description. Again, we give you a head start by filling in the compartments, the contact matrix and the initial compartment values. Complete the force of infection and the required rates."
   ]
  },
  {
   "cell_type": "code",
   "execution_count": null,
   "metadata": {},
   "outputs": [],
   "source": [
    "# Compartments\n",
    "compartments = {\n",
    "    \"S_c\": [],\n",
    "    \"SV_c\": [],\n",
    "    \"I_c\": [],\n",
    "    \"IV_c\": [],\n",
    "    \"R_c\": [],\n",
    "    \"S_a\": [],\n",
    "    \"SV_a\": [],\n",
    "    \"I_a\": [],\n",
    "    \"IV_a\": [],\n",
    "    \"R_a\": []\n",
    "}\n",
    "\n",
    "# Contact Matrix\n",
    "def contacts(i, j):\n",
    "    contact_matrix = [[18, 9], [3, 12]]\n",
    "    return contact_matrix[i][j]\n",
    "\n",
    "#Transition rates\n",
    "#Ns are populations sizes of all age classes ac_i is the age class i (as shown in the aforementioned formulas), acs is the number of age classes\n",
    "def foi(i, iv, params, Ns, ac_i, acs):\n",
    "    foi_value = 0\n",
    "\n",
    "    #TODO: FOI calculation\n",
    "        \n",
    "    return foi_value\n",
    "\n",
    "def i_r(params):\n",
    "    #TODO: I to R rate\n",
    "    pass\n",
    "\n",
    "def i_iv(params, ac_i):\n",
    "    #TODO: vaccination rate, which depends on the age class\n",
    "    pass\n",
    "\n",
    "def s_sv(params, ac_i):\n",
    "    #TODO: vaccination rate, which depends on the age class\n",
    "    pass\n",
    "\n",
    "def initialise_modelstate(modelstate, seeds, N_c, N_a):\n",
    "    modelstate[\"S_c\"] = [N_c - seeds]\n",
    "    modelstate[\"SV_c\"] = [0]\n",
    "    modelstate[\"I_c\"] = [seeds]\n",
    "    modelstate[\"IV_c\"] = [0]\n",
    "    modelstate[\"R_c\"] = [0]\n",
    "\n",
    "    modelstate[\"S_a\"] = [N_a - seeds]\n",
    "    modelstate[\"SV_a\"] = [0]\n",
    "    modelstate[\"I_a\"] = [seeds]\n",
    "    modelstate[\"IV_a\"] = [0]\n",
    "    modelstate[\"R_a\"] = [0]\n",
    "\n",
    "    return modelstate"
   ]
  },
  {
   "cell_type": "markdown",
   "metadata": {},
   "source": [
    "#### Solvers for the model\n",
    "\n",
    "Next, we will use ODEs to simulate our model. Complete the ode_system function with the correct calculations."
   ]
  },
  {
   "cell_type": "code",
   "execution_count": null,
   "metadata": {},
   "outputs": [],
   "source": [
    "# ODE Solver\n",
    "\n",
    "def ode_system(y0, t, parameters):\n",
    "    params = parameters[\"disease_params\"]\n",
    "    Ns = parameters[\"Ns\"]\n",
    "\n",
    "    s_c, sv_c, i_c, iv_c, r_c, s_a, sv_a, i_a, iv_a, r_a = y0\n",
    "    ds_c, dsv_c, di_c, div_c, dr_c, ds_a, dsv_a, di_a, div_a, dr_a = 0, 0, 0, 0, 0, 0, 0, 0, 0, 0\n",
    "\n",
    "    #TODO: Calculate the new individuals for each compartment for children and adults\n",
    "\n",
    "    return ds_c, dsv_c, di_c, div_c, dr_c, ds_a, dsv_a, di_a, div_a, dr_a    \n",
    "\n",
    "def ode_solver(model_state, end_t, params, Ns):\n",
    "    all_parameters = {\n",
    "        \"disease_params\": params,\n",
    "        \"Ns\": Ns\n",
    "    }\n",
    "\n",
    "    # Initial conditions (modelstates, timesteps)   \n",
    "    y0 = (model_state[\"S_c\"][0], model_state[\"SV_c\"][0], model_state[\"I_c\"][0], model_state[\"IV_c\"][0], model_state[\"R_c\"][0], model_state[\"S_a\"][0], model_state[\"SV_a\"][0], model_state[\"I_a\"][0], model_state[\"IV_a\"][0], model_state[\"R_a\"][0])\n",
    "    t = np.linspace(0, end_t, end_t)\n",
    "    \n",
    "    # Solving the ODE system\n",
    "    ret = odeint(ode_system, y0, t, args=(all_parameters,))\n",
    "    s_c, sv_c, i_c, iv_c, r_c, s_a, sv_a, i_a, iv_a, r_a = ret.T\n",
    "\n",
    "    new_model_state = {\n",
    "        \"S_c\": list(s_c),\n",
    "        \"SV_c\": list(sv_c),\n",
    "        \"I_c\": list(i_c),\n",
    "        \"IV_c\": list(iv_c),\n",
    "        \"R_c\": list(r_c),\n",
    "        \"S_a\": list(s_a),\n",
    "        \"SV_a\": list(sv_a),\n",
    "        \"I_a\": list(i_a),\n",
    "        \"IV_a\": list(iv_a),\n",
    "        \"R_a\": list(r_a)\n",
    "    }\n",
    "\n",
    "    return new_model_state\n"
   ]
  },
  {
   "cell_type": "markdown",
   "metadata": {},
   "source": [
    "#### Model Parameters\n",
    "\n",
    "If you implemented everything correctly, you can use the parameters below to simulate your age-structured SIR model with vaccinations."
   ]
  },
  {
   "cell_type": "code",
   "execution_count": null,
   "metadata": {},
   "outputs": [],
   "source": [
    "N = 1000000\n",
    "N_c = 0.25 * N #total population of children\n",
    "N_a = 0.75 * N #total population of adults\n",
    "seeds = 1 #initial number of infected individuals\n",
    "\n",
    "gamma = 1/7 #recovery rate\n",
    "R0 = 3 #basic reproduction number\n",
    "f = [0.25, 0.75] # fraction of children and adults\n",
    "m = np.array([[18*f[0]/f[0], 9*f[0]/f[1]], [3*f[1]/f[0], 12*f[1]/f[1]]]) #normalised contact matrix\n",
    "spectral_radius = max(eig(m)[0]) #spectral radius of the contact matrix\n",
    "\n",
    "params = {\n",
    "    \"beta\": R0 * gamma / spectral_radius, #transmission rate\n",
    "    \"gamma\": gamma, #recovery rate\n",
    "    \"ve_s\": 0.4, #susceptibility of vaccinated individuals\n",
    "    \"ve_i\": 0.5, #infectivity of vaccinated infected individuals\n",
    "    \"rho_c\": 0.01, #daily vaccination rate of children\n",
    "    \"rho_a\": 0.01 #daily vaccination rate of adults\n",
    "}\n",
    "\n",
    "end_t = 150 #days to simulate"
   ]
  },
  {
   "cell_type": "markdown",
   "metadata": {},
   "source": [
    "#### Vaccination Scenarios\n",
    "\n",
    "Below you can run a scenario with vaccination for adults and children as defined above in the parameters code section. We plot the infected and vaccinated infected individuals over time, both for children and adults."
   ]
  },
  {
   "cell_type": "code",
   "execution_count": null,
   "metadata": {},
   "outputs": [],
   "source": [
    "modelstate = initialise_modelstate(compartments, seeds, N_c, N_a)\n",
    "results = ode_solver(modelstate, end_t, params, [N_c, N_a])\n",
    "\n",
    "plot_ODE_w_vacc(results, \"Children and adults vaccinated\", 200000)"
   ]
  },
  {
   "cell_type": "markdown",
   "metadata": {},
   "source": [
    "##### Decreased infectivity for vaccinated individuals\n",
    "\n",
    "Let us assume that vaccinated infected individuals are less infectious than defined in the previous section. Adjust the parameters, perform a simulation and interpret the results as we did in the previous scenario. How did this affect the disease outcome?"
   ]
  },
  {
   "cell_type": "code",
   "execution_count": null,
   "metadata": {},
   "outputs": [],
   "source": [
    "#TODO: Run a scenario with decreased infectivity of vaccinated individuals and analyse the results."
   ]
  },
  {
   "cell_type": "markdown",
   "metadata": {},
   "source": [
    "#### Vaccine Policies\n",
    "\n",
    "Reset the parameters to the initial configuration. Now, let's compare what happens when we vaccinate children vs adults, what are the differences in attack rate?"
   ]
  },
  {
   "cell_type": "markdown",
   "metadata": {},
   "source": [
    "##### Only adults vaccinated"
   ]
  },
  {
   "cell_type": "code",
   "execution_count": null,
   "metadata": {},
   "outputs": [],
   "source": [
    "#TODO: Run a scenario where we only vaccinate adults and analyse the results.\n"
   ]
  },
  {
   "cell_type": "markdown",
   "metadata": {},
   "source": [
    "##### Only children vaccinated"
   ]
  },
  {
   "cell_type": "code",
   "execution_count": null,
   "metadata": {},
   "outputs": [],
   "source": [
    "#TODO: Run a scenario where we only vaccinate children and analyse the results."
   ]
  },
  {
   "cell_type": "markdown",
   "metadata": {},
   "source": [
    "#### *Extra*: Try to implement a stochastic version of the prior exercises. "
   ]
  },
  {
   "cell_type": "code",
   "execution_count": null,
   "metadata": {},
   "outputs": [],
   "source": []
  }
 ],
 "metadata": {
  "kernelspec": {
   "display_name": "Python 3",
   "language": "python",
   "name": "python3"
  },
  "language_info": {
   "codemirror_mode": {
    "name": "ipython",
    "version": 3
   },
   "file_extension": ".py",
   "mimetype": "text/x-python",
   "name": "python",
   "nbconvert_exporter": "python",
   "pygments_lexer": "ipython3",
   "version": "3.11.9"
  }
 },
 "nbformat": 4,
 "nbformat_minor": 2
}

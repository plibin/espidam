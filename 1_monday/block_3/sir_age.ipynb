{
 "cells": [
  {
   "cell_type": "markdown",
   "metadata": {},
   "source": [
    "# ESPIDAM SIR Age-Structured Example\n",
    "\n",
    "*Authors: Sebastiaan Weytjens, Pieter Libin, Niel Hens*"
   ]
  },
  {
   "cell_type": "markdown",
   "metadata": {},
   "source": [
    "### Age-Structured SIR: Adding Contact Behaviour\n",
    "\n",
    "<img src=\"age_sir_model.png\" alt=\"The diagram of an age-structured SIR model.\" style=\"width:400px;\"/>\n",
    "\n",
    "Assume the following contact matrix, which contains contact between children and adults. Rows and columns 0 and 1 represent children and adults, respectively. For example, $C_{0 1}$ are the contacts of children with adults, which is 9 in this case [1]. \n",
    "\n",
    "\n",
    "\n",
    "$C=\\left(\\begin{array}{cc}18 & 9 \\\\ 3 & 12\\end{array}\\right)$\n",
    "\n",
    "Consequently, we modify the rate (i.e., the force of infection) between $S$ and $I$ as follows:\n",
    "\n",
    "$\n",
    "-\\beta \\cdot \\sum_j C_{i j} \\cdot I_j / N_j\n",
    "$\n",
    "\n",
    "The ODE equations for the age structured SIR model become the following: \n",
    "\n",
    "$\n",
    "\\begin{aligned}\n",
    "\\frac{{dS_i}}{{dt}} &= -\\beta \\cdot S_i \\cdot \\sum_j C_{i j} \\cdot I_j / N_j \\\\\n",
    "\\frac{{dI_i}}{{dt}} &= \\beta \\cdot S_i \\cdot \\sum_j C_{i j} \\cdot I_j / N_j - \\gamma \\cdot I_i\\\\\n",
    "\\frac{{dR_i}}{{dt}} &= \\gamma \\cdot I_i\n",
    "\\end{aligned}\n",
    "$\n",
    "\n",
    "[1]: SIR infectious disease model with age classes: https://sherrytowers.com/2012/12/11/sir-model-with-age-classes/"
   ]
  },
  {
   "cell_type": "markdown",
   "metadata": {},
   "source": [
    "#### Dependencies"
   ]
  },
  {
   "cell_type": "code",
   "execution_count": null,
   "metadata": {},
   "outputs": [],
   "source": [
    "import numpy as np\n",
    "from scipy.integrate import odeint\n",
    "import matplotlib.pyplot as plt\n",
    "from sir_helpers import *\n",
    "import math\n",
    "from numpy.linalg import eig"
   ]
  },
  {
   "cell_type": "markdown",
   "metadata": {},
   "source": [
    "#### Model Description\n",
    "\n",
    "We will start with the model description. We gave you head start by filling in the compartments, the contact matrix and the initial compartment values. Complete the force of infection and the rate between $I$ and $R$."
   ]
  },
  {
   "cell_type": "code",
   "execution_count": null,
   "metadata": {},
   "outputs": [],
   "source": [
    "# Compartments\n",
    "compartments = {\n",
    "    \"S_c\": [],\n",
    "    \"I_c\": [],\n",
    "    \"R_c\": [],\n",
    "    \"S_a\": [],\n",
    "    \"I_a\": [],\n",
    "    \"R_a\": []\n",
    "}\n",
    "\n",
    "# Contact Matrix\n",
    "def contacts(i, j):\n",
    "    #Note that it is not the most efficient way to return a matrix like this, but we focus here on clarity\n",
    "    contact_matrix = [[18, 9], [3, 12]]\n",
    "    return contact_matrix[i][j]\n",
    "\n",
    "#Transition rates\n",
    "#Ns are populations sizes of all age classes ac_i is the age class i (as shown in the aforementioned formulas), acs is the number of age classes\n",
    "def foi(i, params, Ns, ac_i, acs):\n",
    "    foi_value = 0\n",
    "\n",
    "    #TODO: FOI calculation\n",
    "\n",
    "    return foi_value\n",
    "\n",
    "def i_r(params):\n",
    "    #TODO: I to R rate\n",
    "    pass\n",
    "\n",
    "def initialise_modelstate(modelstate, seeds, N_c, N_a):\n",
    "    modelstate[\"S_c\"] = [N_c - seeds]\n",
    "    modelstate[\"I_c\"] = [seeds]\n",
    "    modelstate[\"R_c\"] = [0]\n",
    "\n",
    "    modelstate[\"S_a\"] = [N_a - seeds]\n",
    "    modelstate[\"I_a\"] = [seeds]\n",
    "    modelstate[\"R_a\"] = [0]\n",
    "\n",
    "    return modelstate"
   ]
  },
  {
   "cell_type": "markdown",
   "metadata": {},
   "source": [
    "#### Contact restrictions\n",
    "\n",
    "How would you implement working from home and closing schools? Complete the contact functions for those scenarios below."
   ]
  },
  {
   "cell_type": "code",
   "execution_count": null,
   "metadata": {},
   "outputs": [],
   "source": [
    "def contacts_working_from_home(i, j):\n",
    "    #TODO: Return the contacts when working from home\n",
    "    pass\n",
    "\n",
    "def contacts_schools_closed(i, j):\n",
    "    #TODO: Return the contacts when schools are closed\n",
    "    pass"
   ]
  },
  {
   "cell_type": "markdown",
   "metadata": {},
   "source": [
    "#### Solvers for the model\n",
    "\n",
    "Next, we will use ODEs and the Binomial Chain to simulate our model. Complete the ode_system and binom_solver functions."
   ]
  },
  {
   "cell_type": "code",
   "execution_count": null,
   "metadata": {},
   "outputs": [],
   "source": [
    "# ODE Solver\n",
    "\n",
    "def ode_system(y0, t, parameters):\n",
    "    params = parameters[\"disease_params\"]\n",
    "    Ns = parameters[\"Ns\"]\n",
    "\n",
    "    s_c, i_c, r_c, s_a, i_a, r_a = y0\n",
    "    ds_c, di_c, dr_c, ds_a, di_a, dr_a = 0, 0, 0, 0, 0, 0\n",
    "\n",
    "    #TODO: Calculate the new individuals for each compartment for children and adults\n",
    "\n",
    "    return ds_c, di_c, dr_c, ds_a, di_a, dr_a      \n",
    "\n",
    "def ode_solver(model_state, end_t, params, Ns):\n",
    "    all_parameters = {\n",
    "        \"disease_params\": params,\n",
    "        \"Ns\": Ns\n",
    "    }\n",
    "    # Initial conditions (modelstates, timesteps)   \n",
    "    y0 = (model_state[\"S_c\"][0], model_state[\"I_c\"][0], model_state[\"R_c\"][0], model_state[\"S_a\"][0], model_state[\"I_a\"][0], model_state[\"R_a\"][0])\n",
    "    t = np.linspace(0, end_t, end_t)\n",
    "    \n",
    "    # Solving the ODE system\n",
    "    ret = odeint(ode_system, y0, t, args=(all_parameters,))\n",
    "    s_c, i_c, r_c, s_a, i_a, r_a = ret.T\n",
    "\n",
    "    new_modelstate = {\n",
    "        \"S_c\": list(s_c),\n",
    "        \"I_c\": list(i_c),\n",
    "        \"R_c\": list(r_c),\n",
    "        \"S_a\": list(s_a),\n",
    "        \"I_a\": list(i_a),\n",
    "        \"R_a\": list(r_a)\n",
    "    }\n",
    "\n",
    "    return new_modelstate\n",
    "\n",
    "# Binomial Chain solver\n",
    "\n",
    "def binom_solver(model_state, end_t, params, Ns, iterations):\n",
    "    model_states = {\n",
    "        \"S_c\": [],\n",
    "        \"I_c\": [],\n",
    "        \"R_c\": [],\n",
    "        \"S_a\": [],\n",
    "        \"I_a\": [],\n",
    "        \"R_a\": []\n",
    "    }\n",
    "    #For every iteration we simulate a trajectory\n",
    "    for _ in range(iterations):\n",
    "        s_c = [model_state[\"S_c\"][0]]\n",
    "        i_c = [model_state[\"I_c\"][0]]\n",
    "        r_c = [model_state[\"R_c\"][0]]\n",
    "        s_a = [model_state[\"S_a\"][0]]\n",
    "        i_a = [model_state[\"I_a\"][0]]\n",
    "        r_a = [model_state[\"R_a\"][0]]\n",
    "\n",
    "        #TODO: Calculate the new individuals for each compartment for children and adults at each day\n",
    "\n",
    "        #Appending the iteration trajectories to the results\n",
    "        indices = [index for index in range(0, end_t * 10, 10)]\n",
    "        model_states[\"S_c\"].append([s_c[index] for index in indices])\n",
    "        model_states[\"I_c\"].append([i_c[index] for index in indices])\n",
    "        model_states[\"R_c\"].append([r_c[index] for index in indices])\n",
    "        model_states[\"S_a\"].append([s_a[index] for index in indices])\n",
    "        model_states[\"I_a\"].append([i_a[index] for index in indices])\n",
    "        model_states[\"R_a\"].append([r_a[index] for index in indices])\n",
    "\n",
    "    return model_states"
   ]
  },
  {
   "cell_type": "markdown",
   "metadata": {},
   "source": [
    "#### Model Parameters\n",
    "\n",
    "If you implemented everything correctly, you can use the parameters below to simulate your age-structured SIR model. Note that $\\beta$ is calculated using $\\gamma$, $R_0$ and the spectral radius of the normalised contact matrix."
   ]
  },
  {
   "cell_type": "code",
   "execution_count": null,
   "metadata": {},
   "outputs": [],
   "source": [
    "N = 1000000\n",
    "N_c = 0.25 * N #total population of children\n",
    "N_a = 0.75 * N #total population of adults\n",
    "seeds = 1 #initial number of infected individuals\n",
    "\n",
    "gamma = 1/7 #recovery rate\n",
    "R0 = 3 #basic reproduction number\n",
    "f = [0.25, 0.75] # fraction of children and adults\n",
    "m = np.array([[18*f[0]/f[0], 9*f[0]/f[1]], [3*f[1]/f[0], 12*f[1]/f[1]]]) #normalised contact matrix\n",
    "spectral_radius = max(eig(m)[0]) #spectral radius of the contact matrix\n",
    "\n",
    "params = {\n",
    "    \"beta\": R0 * gamma / spectral_radius, #transmission rate\n",
    "    \"gamma\": gamma, #recovery rate\n",
    "}\n",
    "\n",
    "end_t = 150 #days to simulate"
   ]
  },
  {
   "cell_type": "markdown",
   "metadata": {},
   "source": [
    "##### Deterministic simulation"
   ]
  },
  {
   "cell_type": "code",
   "execution_count": null,
   "metadata": {},
   "outputs": [],
   "source": [
    "modelstate = initialise_modelstate(compartments, seeds, N_c, N_a)\n",
    "results = ode_solver(modelstate, end_t, params, [N_c, N_a])\n",
    "\n",
    "plot_ODE_age(results, \"SIR Model with Age Structure (ODE Solver)\", max(N_c, N_a))"
   ]
  },
  {
   "cell_type": "markdown",
   "metadata": {},
   "source": [
    "##### Plotting stochastic results"
   ]
  },
  {
   "cell_type": "code",
   "execution_count": null,
   "metadata": {},
   "outputs": [],
   "source": [
    "modelstate = initialise_modelstate(compartments, seeds, N_c, N_a)\n",
    "results = binom_solver(modelstate, end_t, params, [N_c, N_a], 100)\n",
    "\n",
    "plot_binom_age(results, \"SIR Model with Age Structure (Binomial Chain Solver)\", max(N_c, N_a))"
   ]
  },
  {
   "cell_type": "markdown",
   "metadata": {},
   "source": [
    "#### Working from Home\n",
    "\n",
    "Adjust your model so that individuals are working from home by using the contact matrix you created before. Do a deterministic simulation. Did working from home affect the number of infections?"
   ]
  },
  {
   "cell_type": "code",
   "execution_count": null,
   "metadata": {},
   "outputs": [],
   "source": [
    "#TODO: Perform a deterministic simulation with the working from home scenario"
   ]
  }
 ],
 "metadata": {
  "kernelspec": {
   "display_name": "Python 3",
   "language": "python",
   "name": "python3"
  },
  "language_info": {
   "codemirror_mode": {
    "name": "ipython",
    "version": 3
   },
   "file_extension": ".py",
   "mimetype": "text/x-python",
   "name": "python",
   "nbconvert_exporter": "python",
   "pygments_lexer": "ipython3",
   "version": "3.11.9"
  }
 },
 "nbformat": 4,
 "nbformat_minor": 2
}

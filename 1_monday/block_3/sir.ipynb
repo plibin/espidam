{
 "cells": [
  {
   "cell_type": "markdown",
   "metadata": {},
   "source": [
    "# ESPIDAM SIR Example\n",
    "\n",
    "*Authors: Sebastiaan Weytjens, Pieter Libin, Niel Hens*"
   ]
  },
  {
   "cell_type": "markdown",
   "metadata": {},
   "source": [
    "## SIR Models\n",
    "\n",
    "### Theory\n",
    "\n",
    "The diagram below shows the SIR model. The diagram shows the 3 compartments, S, I and R, and the rates between them. The rate between S and I is also refered to as the force of infection (FOI).\n",
    "\n",
    "![The diagram of an SIR model.](sir_diagram.png)\n",
    "\n",
    "\n",
    "To solve this model deterministically, we can formulate it as a set of Ordinary Differential Equations (ODEs),\n",
    "\n",
    "\n",
    "$\n",
    "\\begin{aligned}\n",
    "\\frac{{dS}}{{dt}} &= -\\beta \\cdot I / N \\cdot S \\\\\n",
    "\\frac{{dI}}{{dt}} &= \\beta \\cdot I / N \\cdot S - \\gamma \\cdot I \\\\\n",
    "\\frac{{dR}}{{dt}} &= \\gamma \\cdot I\n",
    "\\end{aligned}\n",
    "$\n",
    "\n",
    "Alternatively, we can solve this model stochastically using a Binomial Chain [1], as shown below.\n",
    "\n",
    "First, the new individuals in $I$ and $R$ are calculated, where $p^{S \\rightarrow I}(t)$ and $p^{I \\rightarrow R}(t)$ are probabilities of an individual transitioning from $S$ to $I$ or $I$ to $R$, respectively.\n",
    "\n",
    "$\n",
    "\\begin{aligned}\n",
    "I_{\\text {new }} & \\sim \\operatorname{Binomial}\\left(p^{S \\rightarrow I}(t), S(t)\\right) \\\\\n",
    "R_{\\text {new }} & \\sim \\operatorname{Binomial}\\left(p^{I \\rightarrow R}(t), I(t)\\right) \\\\\n",
    "\\end{aligned}\n",
    "$\n",
    "\n",
    "The rate can be converted to a probability (e.g. $p^{S \\rightarrow I}(t)$) as follows: \n",
    "\n",
    "$\n",
    "\\begin{aligned}\n",
    "p &= 1-e^{-\\text{rate}*dt}\n",
    "\\end{aligned}\n",
    "$\n",
    "\n",
    "Then, all compartments are updated accordingly.\n",
    "\n",
    "$\n",
    "\\begin{aligned}\n",
    "S(t+1) &= S(t) - I_{\\text {new }} \\\\\n",
    "I(t+1) &= I(t) + I_{\\text {new }} - R_{\\text {new }} \\\\\n",
    "R(t+1) &= R(t) + R_{\\text {new }}\n",
    "\\end{aligned}\n",
    "$\n",
    "\n",
    "[1]: Abrams, S., Wambua, J., Santermans, E., Willem, L., Kuylen, E., Coletti, P., Libin, P., Faes, C., Petrof, O., Herzog, S. A., Beutels, P., & Hens, N. (2021). Modelling the early phase of the Belgian COVID-19 epidemic using a stochastic compartmental model and studying its implied future trajectories. In Epidemics (Vol. 35, p. 100449). Elsevier BV. https://doi.org/10.1016/j.epidem.2021.100449\n",
    "\n",
    "### Code"
   ]
  },
  {
   "cell_type": "markdown",
   "metadata": {},
   "source": [
    "#### Dependencies"
   ]
  },
  {
   "cell_type": "code",
   "execution_count": null,
   "metadata": {},
   "outputs": [],
   "source": [
    "import numpy as np\n",
    "from scipy.integrate import odeint\n",
    "import matplotlib.pyplot as plt\n",
    "import math\n",
    "from sir_helpers import *"
   ]
  },
  {
   "cell_type": "markdown",
   "metadata": {},
   "source": [
    "#### A function to convert a rate to a probability"
   ]
  },
  {
   "cell_type": "code",
   "execution_count": null,
   "metadata": {},
   "outputs": [],
   "source": [
    "def rate_to_p(rate, dt):\n",
    "    return 1 - math.exp(-rate * dt)"
   ]
  },
  {
   "cell_type": "markdown",
   "metadata": {},
   "source": [
    "#### Model Description"
   ]
  },
  {
   "cell_type": "code",
   "execution_count": null,
   "metadata": {},
   "outputs": [],
   "source": [
    "# Compartments\n",
    "compartments = {\n",
    "    \"S\": [],\n",
    "    \"I\": [],\n",
    "    \"R\": [],\n",
    "}\n",
    "\n",
    "#Transition rates\n",
    "def foi(i, params, N):\n",
    "    return i * params[\"beta\"] / N\n",
    "\n",
    "def i_r(params):\n",
    "    return params[\"gamma\"]\n",
    "\n",
    "def initialise_modelstate(modelstate, seeds, N):\n",
    "    modelstate[\"S\"] = [N - seeds]\n",
    "    modelstate[\"I\"] = [seeds]\n",
    "    modelstate[\"R\"] = [0]\n",
    "\n",
    "    return modelstate"
   ]
  },
  {
   "cell_type": "markdown",
   "metadata": {},
   "source": [
    "#### Solvers for the model\n",
    "\n",
    "Deterministically, using ODEs, or stochastically, using a Binomial Chain."
   ]
  },
  {
   "cell_type": "code",
   "execution_count": null,
   "metadata": {},
   "outputs": [],
   "source": [
    "# ODE Solver\n",
    "\n",
    "def ode_system(y0, t, parameters):\n",
    "        \n",
    "    params = parameters[\"disease_params\"]\n",
    "    N = parameters[\"N\"]\n",
    "\n",
    "    s, i, r = y0\n",
    "    ds, di, dr = 0, 0, 0\n",
    "\n",
    "    #Calculating the difference\n",
    "    diff = s * foi(i, params, N)\n",
    "    ds -= diff\n",
    "    di += diff\n",
    "\n",
    "    diff = i * i_r(params)\n",
    "    di -= diff\n",
    "    dr += diff\n",
    "\n",
    "    return ds, di, dr\n",
    "\n",
    "def ode_solver(model_state, end_t, params, N):\n",
    "    all_parameters = {\n",
    "        \"disease_params\": params,\n",
    "        \"N\": N\n",
    "    }\n",
    "    # Initial conditions (modelstates, timesteps)\n",
    "    y0 = (model_state[\"S\"][0], model_state[\"I\"][0], model_state[\"R\"][0])\n",
    "    t = np.linspace(0, end_t, end_t)\n",
    "    \n",
    "    # Solving the ODE system\n",
    "    ret = odeint(ode_system, y0, t, args=(all_parameters,))\n",
    "    s, i, r = ret.T\n",
    "\n",
    "    new_model_state = {\n",
    "        \"S\": list(s),\n",
    "        \"I\": list(i),\n",
    "        \"R\": list(r)\n",
    "    }\n",
    "\n",
    "    return new_model_state\n",
    "\n",
    "# Binomial Chain solver\n",
    "\n",
    "def binom_solver(model_state, end_t, params, N, iterations):\n",
    "\n",
    "    model_states = {\n",
    "        \"S\": [],\n",
    "        \"I\": [],\n",
    "        \"R\": []\n",
    "    }\n",
    "\n",
    "    #For every iteration we simulate a trajectory\n",
    "    for _ in range(iterations):\n",
    "\n",
    "        s = [model_state[\"S\"][0]]\n",
    "        i = [model_state[\"I\"][0]]\n",
    "        r = [model_state[\"R\"][0]]\n",
    "\n",
    "        #we simulate 10 steps per day to get a more accurate approximation\n",
    "        for t in range(1, end_t * 10):\n",
    "            #Stochastically calculating the new individuals\n",
    "            i_new = np.random.binomial(s[t-1], rate_to_p(foi(i[t-1], params, N), 1/10))\n",
    "            r_new = np.random.binomial(i[t-1], rate_to_p(i_r(params), 1/10))\n",
    "\n",
    "            s.append(s[t-1] - i_new)\n",
    "            i.append(i[t-1] + i_new - r_new)\n",
    "            r.append(r[t-1] + r_new)\n",
    "\n",
    "        #Appending the iteration trajectories to the results\n",
    "        indices = [index for index in range(0, end_t * 10, 10)]\n",
    "        model_states[\"S\"].append([s[index] for index in indices])\n",
    "        model_states[\"I\"].append([i[index] for index in indices])\n",
    "        model_states[\"R\"].append([r[index] for index in indices])\n",
    "\n",
    "    return model_states"
   ]
  },
  {
   "cell_type": "markdown",
   "metadata": {},
   "source": [
    "#### Model Parameters"
   ]
  },
  {
   "cell_type": "code",
   "execution_count": null,
   "metadata": {},
   "outputs": [],
   "source": [
    "N = 1000000 #total population\n",
    "seeds = 10 #initial number of infected individuals\n",
    "\n",
    "R0 = 1.5 #basic reproduction number\n",
    "gamma = 1/3 #recovery rate\n",
    "\n",
    "params = {\n",
    "    \"beta\": R0 * gamma, #transmission rate\n",
    "    \"gamma\": gamma #recovery rate\n",
    "}\n",
    "\n",
    "end_t = 150 #days to simulate"
   ]
  },
  {
   "cell_type": "markdown",
   "metadata": {},
   "source": [
    "#### Plotting"
   ]
  },
  {
   "cell_type": "markdown",
   "metadata": {},
   "source": [
    "##### Plotting deterministic results"
   ]
  },
  {
   "cell_type": "code",
   "execution_count": null,
   "metadata": {},
   "outputs": [],
   "source": [
    "modelstate = initialise_modelstate(compartments, seeds, N)\n",
    "results = ode_solver(modelstate, end_t, params, N)\n",
    "\n",
    "plot_ODE(results, \"SIR Model (ODE Solver)\")"
   ]
  },
  {
   "cell_type": "markdown",
   "metadata": {},
   "source": [
    "##### Plotting stochastic results\n",
    "\n",
    "Compare the results of the ODE with the means of the stochastic trajectories. Why are there differences?"
   ]
  },
  {
   "cell_type": "code",
   "execution_count": null,
   "metadata": {},
   "outputs": [],
   "source": [
    "modelstate = initialise_modelstate(compartments, seeds, N)\n",
    "results = binom_solver(modelstate, end_t, params, N, 100)\n",
    "\n",
    "plot_binom(results, \"SIR Model (Binomial Chain Solver)\")"
   ]
  },
  {
   "cell_type": "markdown",
   "metadata": {},
   "source": [
    "##### Comparing various $R_0$\n",
    "\n",
    "$R_0$, also known as the basic reproduction number, represents the average number of secondary infections caused by a single infected individual in a completely susceptible population.\n",
    "\n",
    "To calculate $R_0$ in this simple SIR model, we can use this formula:\n",
    "\n",
    "$\n",
    "R_0 = \\beta / \\gamma\n",
    "$\n",
    "\n",
    "In this example, we will compare trajectories for various $R_0$."
   ]
  },
  {
   "cell_type": "code",
   "execution_count": null,
   "metadata": {},
   "outputs": [],
   "source": [
    "results = {}\n",
    "\n",
    "modelstate = initialise_modelstate(compartments, seeds, N)\n",
    "\n",
    "for R0 in [0.75,1,1.25,1.5,2,2.5,3]:\n",
    "    params = {\n",
    "        \"beta\": R0*gamma, \n",
    "        \"gamma\": gamma\n",
    "    }\n",
    "\n",
    "    results[R0] = binom_solver(modelstate, end_t, params, N, 100)\n",
    "\n",
    "plot_binom_R0s(results, \"SIR Model (Binomial Chain) - Varying R0 - With Errors\")"
   ]
  }
 ],
 "metadata": {
  "kernelspec": {
   "display_name": "Python 3",
   "language": "python",
   "name": "python3"
  },
  "language_info": {
   "codemirror_mode": {
    "name": "ipython",
    "version": 3
   },
   "file_extension": ".py",
   "mimetype": "text/x-python",
   "name": "python",
   "nbconvert_exporter": "python",
   "pygments_lexer": "ipython3",
   "version": "3.12.3"
  }
 },
 "nbformat": 4,
 "nbformat_minor": 2
}
